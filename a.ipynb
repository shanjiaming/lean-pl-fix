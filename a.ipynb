{
 "cells": [
  {
   "cell_type": "code",
   "execution_count": 1,
   "metadata": {},
   "outputs": [
    {
     "name": "stdout",
     "output_type": "stream",
     "text": [
      "Build completed successfully.\n"
     ]
    },
    {
     "name": "stdout",
     "output_type": "stream",
     "text": [
      "No files to download\n",
      "Decompressing 6641 file(s)\n",
      "Unpacked in 90 ms\n",
      "Completed successfully!\n",
      "Build completed successfully.\n",
      "{'lean_version': 'v4.19.0', 'project': LocalProject(directory='../matheye/benchmarks/', build=True), 'repl_git': 'https://github.com/augustepoiroux/repl', 'repl_rev': 'v1.0.8', 'cache_dir': '/home/matheye/anaconda3/lib/python3.12/site-packages/lean_interact/cache', 'memory_hard_limit_mb': None, 'verbose': True, '_stdout': None, '_stderr': None, 'repo_name': 'augustepoiroux/repl', 'cache_clean_repl_dir': '/home/matheye/anaconda3/lib/python3.12/site-packages/lean_interact/cache/augustepoiroux/repl/repl_clean_copy', '_cache_repl_dir': '/home/matheye/anaconda3/lib/python3.12/site-packages/lean_interact/cache/augustepoiroux/repl/repl_v1.0.8_v4.19.0', '_working_dir': '../matheye/benchmarks/'}\n"
     ]
    }
   ],
   "source": [
    "from lean_interact import Command, LeanServer, LeanREPLConfig, TempRequireProject, LocalProject\n",
    "localprojectdir = \"../matheye/benchmarks/\"\n",
    "config = LeanREPLConfig(verbose=True, project=LocalProject(localprojectdir))\n",
    "print(config.__dict__)\n",
    "\n",
    "server = LeanServer(config)\n"
   ]
  },
  {
   "cell_type": "code",
   "execution_count": 3,
   "metadata": {},
   "outputs": [
    {
     "name": "stdout",
     "output_type": "stream",
     "text": [
      "CommandResponse(env=1, messages=[Message(severity='error', data='no goals to be solved', end_pos=Pos(line=6, column=8), start_pos=Pos(line=6, column=4)), Message(severity='error', data='simp made no progress', end_pos=Pos(line=10, column=30), start_pos=Pos(line=10, column=4))])\n"
     ]
    }
   ],
   "source": [
    "\n",
    "response = server.run(Command(cmd=\n",
    "\"\"\"import Mathlib\n",
    "theorem induction_with_have (n : ℕ) : n * (n + 1) / 2 + (n + 1) = (n + 1) * (n + 2) / 2 := by\n",
    "  induction' n with k ih\n",
    "  · -- base case n = 0\n",
    "    simp\n",
    "    have h1 : (0 : ℕ) * 1 / 2 = 0 := by norm_num\n",
    "    have h2 : h1.trans rfl = (0 + 1) := by simp\n",
    "    norm_num\n",
    "  · -- inductive step\n",
    "    simp [Nat.succ_eq_add_one]\n",
    "    have h1 : k * (k + 1) / 2 + (k + 1) = (k + 1) * (k + 2) / 2 := by\n",
    "      exact ih\n",
    "    have h2 : (k + 1) * (k + 2) / 2 + (k + 2) = (k + 2) * (k + 3) / 2 := by\n",
    "      have h3 : (k + 1) * (k + 2) = k * (k + 1) + 2 * (k + 1) := by ring\n",
    "      have h4 : (k + 2) * (k + 3) = (k + 1) * (k + 2) + 2 * (k + 2) := by ring\n",
    "      have h5 : 2 * (k + 2) = (k + 2) + (k + 2) := by ring\n",
    "      ring\n",
    "    exact h2\n",
    "\"\"\"))\n",
    "print(response)\n"
   ]
  },
  {
   "cell_type": "code",
   "execution_count": 1,
   "metadata": {},
   "outputs": [
    {
     "name": "stdout",
     "output_type": "stream",
     "text": [
      "Build completed successfully.\n",
      "No files to download\n",
      "Decompressing 6641 file(s)\n",
      "Unpacked in 60 ms\n",
      "Completed successfully!\n",
      "Build completed successfully.\n",
      "{'lean_version': 'v4.19.0', 'project': LocalProject(directory='../matheye/benchmarks/', build=True), 'repl_git': 'https://github.com/augustepoiroux/repl', 'repl_rev': 'v1.0.8', 'cache_dir': '/home/matheye/anaconda3/lib/python3.12/site-packages/lean_interact/cache', 'memory_hard_limit_mb': None, 'verbose': True, '_stdout': None, '_stderr': None, 'repo_name': 'augustepoiroux/repl', 'cache_clean_repl_dir': '/home/matheye/anaconda3/lib/python3.12/site-packages/lean_interact/cache/augustepoiroux/repl/repl_clean_copy', '_cache_repl_dir': '/home/matheye/anaconda3/lib/python3.12/site-packages/lean_interact/cache/augustepoiroux/repl/repl_v1.0.8_v4.19.0', '_working_dir': '../matheye/benchmarks/'}\n",
      "[Sorry(proof_state=0, end_pos=Pos(column=7, line=9), goal=\"a b c d e : ℝ\\nh : a = b + c\\nh' : b = d - e\\n⊢ b + c + e = d + c\", start_pos=Pos(column=2, line=9))]\n",
      "ProofStepResponse(goals=[], proof_status='Completed', proof_state=1)\n"
     ]
    }
   ],
   "source": [
    "from lean_interact import Command, LeanServer, LeanREPLConfig, TempRequireProject, LocalProject, ProofStep\n",
    "localprojectdir = \"../matheye/benchmarks/\"\n",
    "config = LeanREPLConfig(verbose=True, project=LocalProject(localprojectdir))\n",
    "print(config.__dict__)\n",
    "\n",
    "server = LeanServer(config)\n",
    "response = server.run(Command(cmd=\"\"\"import Mathlib\n",
    "import Aesop\n",
    "\n",
    "set_option maxHeartbeats 0\n",
    "\n",
    "open BigOperators Real Nat Topology Rat\n",
    "example (a b c d e : ℝ) (h : a = b + c) (h' : b = d - e) : a + e = d + c := by\n",
    "  rw [h]\n",
    "  sorry\n",
    "\"\"\"))\n",
    "print(response.sorries)\n",
    "response = server.run(ProofStep(proof_state=0, tactic=\"\"\"(\n",
    "  rw [h']\n",
    "  ring\n",
    ")\"\"\"))\n",
    "print(response)"
   ]
  },
  {
   "cell_type": "code",
   "execution_count": null,
   "metadata": {},
   "outputs": [
    {
     "name": "stdout",
     "output_type": "stream",
     "text": [
      "ProofStepResponse(proof_status='Completed', goals=[], proof_state=1)\n"
     ]
    }
   ],
   "source": [
    "response = server.run(ProofStep(proof_state=0, tactic=\"rw [h']\"))"
   ]
  },
  {
   "cell_type": "code",
   "execution_count": 21,
   "metadata": {},
   "outputs": [
    {
     "name": "stdout",
     "output_type": "stream",
     "text": [
      "constructor Pos(line=3, column=2) Pos(line=3, column=13)\n",
      "have a : x = y -> y = x := by\n",
      "  intro h\n",
      "  rw [<- h]\n",
      "  rw [h] <;> linarith Pos(line=5, column=4) Pos(line=9, column=17)\n",
      "intro h Pos(line=6, column=6) Pos(line=6, column=13)\n",
      "rw [<- h] Pos(line=7, column=6) Pos(line=7, column=15)\n",
      "exact a Pos(line=10, column=4) Pos(line=10, column=11)\n",
      "rw [a] Pos(line=12, column=4) Pos(line=12, column=10)\n"
     ]
    }
   ],
   "source": [
    "from lean_interact import Command, LeanServer, LeanREPLConfig, TempRequireProject, LocalProject\n",
    "localprojectdir = \"../matheye/benchmarks/\"\n",
    "config = LeanREPLConfig(verbose=True, project=LocalProject(localprojectdir))\n",
    "print(config.__dict__)\n",
    "\n",
    "server = LeanServer(config)\n",
    "response = server.run(Command(cmd=\"\"\"import Mathlib\n",
    "theorem eq_comm_demo (x y : ℕ) : x = y ↔ y = x := by\n",
    "  constructor\n",
    "  · \n",
    "    have a: x = y -> y = x := by\n",
    "      intro h \n",
    "      rw [<- h]\n",
    "      rw [h]\n",
    "      <;>linarith\n",
    "    exact a\n",
    "  · \n",
    "    rw [a]\n",
    "    rw [h]\n",
    "\n",
    "\"\"\", all_tactics=True))\n",
    "\n",
    "for tactic in response.tactics:\n",
    "    print(tactic.tactic + \" \" + str(tactic.start_pos) + \" \" + str(tactic.end_pos))"
   ]
  },
  {
   "cell_type": "code",
   "execution_count": 27,
   "metadata": {},
   "outputs": [],
   "source": [
    "from lean_interact import ProofStep\n"
   ]
  },
  {
   "cell_type": "code",
   "execution_count": 28,
   "metadata": {},
   "outputs": [
    {
     "name": "stdout",
     "output_type": "stream",
     "text": [
      "ProofStepResponse(proof_status=\"Error: kernel type check failed: (kernel) declaration has metavariables '[anonymous]'\", goals=[], proof_state=3)\n"
     ]
    }
   ],
   "source": [
    "response = server.run(ProofStep(proof_state=1, tactic=\"\"\"(\n",
    "nlinarith\n",
    ")\"\"\"))\n",
    "print(response)"
   ]
  },
  {
   "cell_type": "code",
   "execution_count": null,
   "metadata": {},
   "outputs": [],
   "source": []
  }
 ],
 "metadata": {
  "kernelspec": {
   "display_name": "base",
   "language": "python",
   "name": "python3"
  },
  "language_info": {
   "codemirror_mode": {
    "name": "ipython",
    "version": 3
   },
   "file_extension": ".py",
   "mimetype": "text/x-python",
   "name": "python",
   "nbconvert_exporter": "python",
   "pygments_lexer": "ipython3",
   "version": "3.12.7"
  }
 },
 "nbformat": 4,
 "nbformat_minor": 2
}
