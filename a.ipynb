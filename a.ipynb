{
 "cells": [
  {
   "cell_type": "code",
   "execution_count": 11,
   "metadata": {},
   "outputs": [
    {
     "name": "stdout",
     "output_type": "stream",
     "text": [
      "Build completed successfully.\n",
      "No files to download\n",
      "Decompressing 6641 file(s)\n",
      "Unpacked in 68 ms\n",
      "Completed successfully!\n",
      "Build completed successfully.\n",
      "{'lean_version': 'v4.19.0', 'project': LocalProject(directory='../matheye/benchmarks/', build=True), 'repl_git': 'https://github.com/augustepoiroux/repl', 'repl_rev': 'v1.0.8', 'cache_dir': '/home/matheye/anaconda3/lib/python3.12/site-packages/lean_interact/cache', 'memory_hard_limit_mb': None, 'verbose': True, '_stdout': None, '_stderr': None, 'repo_name': 'augustepoiroux/repl', 'cache_clean_repl_dir': '/home/matheye/anaconda3/lib/python3.12/site-packages/lean_interact/cache/augustepoiroux/repl/repl_clean_copy', '_cache_repl_dir': '/home/matheye/anaconda3/lib/python3.12/site-packages/lean_interact/cache/augustepoiroux/repl/repl_v1.0.8_v4.19.0', '_working_dir': '../matheye/benchmarks/'}\n"
     ]
    }
   ],
   "source": [
    "from lean_interact import Command, LeanServer, LeanREPLConfig, TempRequireProject, LocalProject\n",
    "localprojectdir = \"../matheye/benchmarks/\"\n",
    "config = LeanREPLConfig(verbose=True, project=LocalProject(localprojectdir))\n",
    "print(config.__dict__)\n",
    "\n",
    "server = LeanServer(config)\n"
   ]
  },
  {
   "cell_type": "code",
   "execution_count": 13,
   "metadata": {},
   "outputs": [
    {
     "name": "stdout",
     "output_type": "stream",
     "text": [
      "CommandResponse(env=1, sorries=[Sorry(goal='n : ℕ\\nh : n > 0\\n⊢ n ≥ 1', end_pos=Pos(column=10, line=12), start_pos=Pos(column=4, line=12), proof_state=5), Sorry(goal='n : ℕ\\nh : n > 0\\nh1 h3 : n ≥ 1\\nh4 : n + n = n + n\\n⊢ n + 1 ≤ n + n', end_pos=Pos(column=12, line=17), start_pos=Pos(column=6, line=17), proof_state=6), Sorry(goal='n : ℕ\\nh : n > 0\\nh1 h3 : n ≥ 1\\nh4 : n + n = n + n\\nh5 : n + 1 ≤ n + n\\n⊢ n + n ≥ n + 1', end_pos=Pos(column=10, line=18), start_pos=Pos(column=4, line=18), proof_state=7), Sorry(goal='n : ℕ\\nh : n > 0\\nh1 : n ≥ 1\\nh2 : n + n ≥ n + 1\\n⊢ n + 1 ≥ n', end_pos=Pos(column=10, line=20), start_pos=Pos(column=4, line=20), proof_state=8), Sorry(goal='n : ℕ\\nh : n > 0\\nh1 : n ≥ 1\\nh2 : n + n ≥ n + 1\\nh6 : n + 1 ≥ n\\n⊢ n + n ≥ n', end_pos=Pos(column=8, line=21), start_pos=Pos(column=2, line=21), proof_state=9)], messages=[Message(end_pos=Pos(column=26, line=10), severity='warning', start_pos=Pos(column=8, line=10), data=\"declaration uses 'sorry'\"), Message(end_pos=Pos(column=37, line=10), severity='warning', start_pos=Pos(column=36, line=10), data='unused variable `h`\\nnote: this linter can be disabled with `set_option linter.unusedVariables false`')])\n",
      "CommandResponse(env=2, sorries=[Sorry(goal='n : ℕ\\nh : n > 0\\n⊢ n ≥ 1', end_pos=Pos(column=10, line=13), start_pos=Pos(column=4, line=13), proof_state=10), Sorry(goal='n : ℕ\\nh : n > 0\\nh1 h3 : n ≥ 1\\nh4 : n + n = n + n\\n⊢ n + 1 ≤ n + n', end_pos=Pos(column=12, line=20), start_pos=Pos(column=6, line=20), proof_state=11), Sorry(goal='n : ℕ\\nh : n > 0\\nh1 h3 : n ≥ 1\\nh4 : n + n = n + n\\nh5 : n + 1 ≤ n + n\\n⊢ n + n ≥ n + 1', end_pos=Pos(column=10, line=23), start_pos=Pos(column=4, line=23), proof_state=12), Sorry(goal='n : ℕ\\nh : n > 0\\nh1 : n ≥ 1\\nh2 : n + n ≥ n + 1\\n⊢ n + 1 ≥ n', end_pos=Pos(column=10, line=27), start_pos=Pos(column=4, line=27), proof_state=13), Sorry(goal='n : ℕ\\nh : n > 0\\nh1 : n ≥ 1\\nh2 : n + n ≥ n + 1\\nh6 : n + 1 ≥ n\\n⊢ n + n ≥ n', end_pos=Pos(column=8, line=30), start_pos=Pos(column=2, line=30), proof_state=14), Sorry(goal='n : ℕ\\nh : n > 0\\n⊢ n ≥ 1', end_pos=Pos(column=30, line=15), start_pos=Pos(column=21, line=15), proof_state=15), Sorry(goal='n : ℕ\\nh : n > 0\\nh1 h3 : n ≥ 1\\nh4 : n + n = n + n\\n⊢ n + 1 ≤ n + n', end_pos=Pos(column=40, line=22), start_pos=Pos(column=31, line=22), proof_state=16), Sorry(goal='n : ℕ\\nh : n > 0\\nh1 : n ≥ 1\\nh2 : n + n ≥ n + 1\\n⊢ n + 1 ≥ n', end_pos=Pos(column=34, line=29), start_pos=Pos(column=25, line=29), proof_state=17)], messages=[Message(end_pos=Pos(column=12, line=24), severity='error', start_pos=Pos(column=4, line=24), data='no goals to be solved'), Message(end_pos=Pos(column=10, line=31), severity='error', start_pos=Pos(column=2, line=31), data='no goals to be solved')])\n"
     ]
    }
   ],
   "source": [
    "\n",
    "response = server.run(Command(cmd=\n",
    "\"\"\"\n",
    "import Mathlib\n",
    "\n",
    "macro \"hole_2\" : tactic => `(tactic| admit)\n",
    "macro \"hole_4\" : tactic => `(tactic| admit)\n",
    "macro \"hole_3\" : tactic => `(tactic| admit)\n",
    "macro \"hole_5\" : tactic => `(tactic| admit)\n",
    "macro \"hole_1\" : tactic => `(tactic| admit)\n",
    "\n",
    "theorem complex_have_chain (n : ℕ) (h : n > 0) : n + n ≥ n := by\n",
    "  have h1 : n ≥ 1 := by\n",
    "    hole_2\n",
    "  have h2 : n + n ≥ n + 1 := by\n",
    "    have h3 : n ≥ 1 := h1\n",
    "    have h4 : n + n = n + n := rfl\n",
    "    have h5 : n + 1 ≤ n + n := by\n",
    "      hole_4\n",
    "    hole_3\n",
    "  have h6 : n + 1 ≥ n := by\n",
    "    hole_5\n",
    "  hole_1\n",
    "\"\"\"))\n",
    "print(response)\n",
    "\n",
    "response = server.run(Command(cmd=\n",
    "\"\"\"\n",
    "import Mathlib\n",
    "\n",
    "macro \"hole_2\" : tactic => `(tactic| admit)\n",
    "macro \"hole_4\" : tactic => `(tactic| admit)\n",
    "macro \"hole_3\" : tactic => `(tactic| admit)\n",
    "macro \"hole_5\" : tactic => `(tactic| admit)\n",
    "macro \"hole_1\" : tactic => `(tactic| admit)\n",
    "macro \"skip_hole\" : term => `(sorry)\n",
    "\n",
    "theorem complex_have_chain (n : ℕ) (h : n > 0) : n + n ≥ n := by\n",
    "  have h1 : n ≥ 1 := by\n",
    "    hole_2\n",
    "  clear h1\n",
    "  have h1 : n ≥ 1 := skip_hole\n",
    "  have h2 : n + n ≥ n + 1 := by\n",
    "    have h3 : n ≥ 1 := h1\n",
    "    have h4 : n + n = n + n := rfl\n",
    "    have h5 : n + 1 ≤ n + n := by\n",
    "      hole_4\n",
    "    clear h5\n",
    "    have h5 : n + 1 ≤ n + n := skip_hole\n",
    "    hole_3\n",
    "    clear h5\n",
    "    have h5 : n + 1 ≤ n + n := skip_hole\n",
    "  have h6 : n + 1 ≥ n := by\n",
    "    hole_5\n",
    "  clear h6\n",
    "  have h6 : n + 1 ≥ n := skip_hole\n",
    "  hole_1\n",
    "  clear h6\n",
    "  have h6 : n + 1 ≥ n := skip_hole\n",
    "\"\"\"))\n",
    "print(response)"
   ]
  },
  {
   "cell_type": "code",
   "execution_count": 8,
   "metadata": {},
   "outputs": [
    {
     "name": "stdout",
     "output_type": "stream",
     "text": [
      "Build completed successfully.\n",
      "No files to download\n",
      "Decompressing 6641 file(s)\n",
      "Unpacked in 69 ms\n",
      "Completed successfully!\n",
      "Build completed successfully.\n",
      "{'lean_version': 'v4.19.0', 'project': LocalProject(directory='../matheye/benchmarks/', build=True), 'repl_git': 'https://github.com/augustepoiroux/repl', 'repl_rev': 'v1.0.8', 'cache_dir': '/home/matheye/anaconda3/lib/python3.12/site-packages/lean_interact/cache', 'memory_hard_limit_mb': None, 'verbose': True, '_stdout': None, '_stderr': None, 'repo_name': 'augustepoiroux/repl', 'cache_clean_repl_dir': '/home/matheye/anaconda3/lib/python3.12/site-packages/lean_interact/cache/augustepoiroux/repl/repl_clean_copy', '_cache_repl_dir': '/home/matheye/anaconda3/lib/python3.12/site-packages/lean_interact/cache/augustepoiroux/repl/repl_v1.0.8_v4.19.0', '_working_dir': '../matheye/benchmarks/'}\n",
      "[Sorry(goal=\"a b c d e : ℝ\\nh : a = b + c\\nh' : b = d - e\\n⊢ b + c + e = d + c\", end_pos=Pos(column=7, line=9), start_pos=Pos(column=2, line=9), proof_state=0)]\n",
      "ProofStepResponse(proof_status='Completed', goals=[], proof_state=1)\n"
     ]
    }
   ],
   "source": [
    "from lean_interact import Command, LeanServer, LeanREPLConfig, TempRequireProject, LocalProject, ProofStep\n",
    "localprojectdir = \"../matheye/benchmarks/\"\n",
    "config = LeanREPLConfig(verbose=True, project=LocalProject(localprojectdir))\n",
    "print(config.__dict__)\n",
    "\n",
    "server = LeanServer(config)\n",
    "response = server.run(Command(cmd=\"\"\"import Mathlib\n",
    "import Aesop\n",
    "\n",
    "set_option maxHeartbeats 0\n",
    "\n",
    "open BigOperators Real Nat Topology Rat\n",
    "example (a b c d e : ℝ) (h : a = b + c) (h' : b = d - e) : a + e = d + c := by\n",
    "  rw [h]\n",
    "  sorry\n",
    "\"\"\"))\n",
    "print(response.sorries)\n",
    "response = server.run(ProofStep(proof_state=0, tactic=\"\"\"(\n",
    "  rw [h']\n",
    "  ring\n",
    ")\"\"\"))\n",
    "print(response)"
   ]
  },
  {
   "cell_type": "code",
   "execution_count": null,
   "metadata": {},
   "outputs": [
    {
     "name": "stdout",
     "output_type": "stream",
     "text": [
      "ProofStepResponse(proof_status='Completed', goals=[], proof_state=1)\n"
     ]
    }
   ],
   "source": []
  },
  {
   "cell_type": "code",
   "execution_count": 21,
   "metadata": {},
   "outputs": [
    {
     "name": "stdout",
     "output_type": "stream",
     "text": [
      "constructor Pos(line=3, column=2) Pos(line=3, column=13)\n",
      "have a : x = y -> y = x := by\n",
      "  intro h\n",
      "  rw [<- h]\n",
      "  rw [h] <;> linarith Pos(line=5, column=4) Pos(line=9, column=17)\n",
      "intro h Pos(line=6, column=6) Pos(line=6, column=13)\n",
      "rw [<- h] Pos(line=7, column=6) Pos(line=7, column=15)\n",
      "exact a Pos(line=10, column=4) Pos(line=10, column=11)\n",
      "rw [a] Pos(line=12, column=4) Pos(line=12, column=10)\n"
     ]
    }
   ],
   "source": [
    "from lean_interact import Command, LeanServer, LeanREPLConfig, TempRequireProject, LocalProject\n",
    "localprojectdir = \"../matheye/benchmarks/\"\n",
    "config = LeanREPLConfig(verbose=True, project=LocalProject(localprojectdir))\n",
    "print(config.__dict__)\n",
    "\n",
    "server = LeanServer(config)\n",
    "response = server.run(Command(cmd=\"\"\"import Mathlib\n",
    "theorem eq_comm_demo (x y : ℕ) : x = y ↔ y = x := by\n",
    "  constructor\n",
    "  · \n",
    "    have a: x = y -> y = x := by\n",
    "      intro h \n",
    "      rw [<- h]\n",
    "      rw [h]\n",
    "      <;>linarith\n",
    "    exact a\n",
    "  · \n",
    "    rw [a]\n",
    "    rw [h]\n",
    "\n",
    "\"\"\", all_tactics=True))\n",
    "\n",
    "for tactic in response.tactics:\n",
    "    print(tactic.tactic + \" \" + str(tactic.start_pos) + \" \" + str(tactic.end_pos))"
   ]
  },
  {
   "cell_type": "code",
   "execution_count": 27,
   "metadata": {},
   "outputs": [],
   "source": [
    "from lean_interact import ProofStep\n"
   ]
  },
  {
   "cell_type": "code",
   "execution_count": 28,
   "metadata": {},
   "outputs": [
    {
     "name": "stdout",
     "output_type": "stream",
     "text": [
      "ProofStepResponse(proof_status=\"Error: kernel type check failed: (kernel) declaration has metavariables '[anonymous]'\", goals=[], proof_state=3)\n"
     ]
    }
   ],
   "source": [
    "response = server.run(ProofStep(proof_state=1, tactic=\"\"\"(\n",
    "nlinarith\n",
    ")\"\"\"))\n",
    "print(response)"
   ]
  },
  {
   "cell_type": "code",
   "execution_count": null,
   "metadata": {},
   "outputs": [],
   "source": []
  }
 ],
 "metadata": {
  "kernelspec": {
   "display_name": "base",
   "language": "python",
   "name": "python3"
  },
  "language_info": {
   "codemirror_mode": {
    "name": "ipython",
    "version": 3
   },
   "file_extension": ".py",
   "mimetype": "text/x-python",
   "name": "python",
   "nbconvert_exporter": "python",
   "pygments_lexer": "ipython3",
   "version": "3.12.7"
  }
 },
 "nbformat": 4,
 "nbformat_minor": 2
}
