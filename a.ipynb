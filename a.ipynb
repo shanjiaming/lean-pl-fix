{
 "cells": [
  {
   "cell_type": "code",
   "execution_count": 1,
   "metadata": {},
   "outputs": [
    {
     "name": "stdout",
     "output_type": "stream",
     "text": [
      "{'lean_version': 'v4.21.0-rc3', 'project': TempRequireProject(require='mathlib'), 'repl_git': 'https://github.com/augustepoiroux/repl', 'repl_rev': 'v1.0.9', 'cache_dir': PosixPath('/Users/sjm/miniconda3/lib/python3.13/site-packages/lean_interact/cache'), 'local_repl_path': PosixPath('/Users/sjm/coding/projects/Newton/repl'), 'build_repl': True, 'memory_hard_limit_mb': None, 'lake_path': PosixPath('lake'), 'verbose': False, '_timeout_lock': 300, '_stdout': -3, '_stderr': -3, '_cache_repl_dir': PosixPath('/Users/sjm/coding/projects/Newton/repl'), '_working_dir': PosixPath('/Users/sjm/miniconda3/lib/python3.13/site-packages/lean_interact/cache/tmp_projects/v4.21.0-rc3/1e05fd82f2c4fc489117f059ac17237437a6dbc201ad266e76e4f63abf7f4e88')}\n"
     ]
    }
   ],
   "source": [
    "from lean_interact import Command, LeanServer, LeanREPLConfig, TempRequireProject, ProofStep\n",
    "\n",
    "config = LeanREPLConfig(local_repl_path = \"/Users/sjm/coding/projects/Newton/repl\", lean_version=\"v4.21.0-rc3\", project=TempRequireProject(\"mathlib\"))\n",
    "print(config.__dict__)\n",
    "\n",
    "server = LeanServer(config)\n"
   ]
  },
  {
   "cell_type": "code",
   "execution_count": 2,
   "metadata": {},
   "outputs": [],
   "source": [
    "\n",
    "response = server.run(Command(cmd=\"\"\"import Mathlib\n",
    "import Aesop\n",
    "\n",
    "set_option maxHeartbeats 0\n",
    "\n",
    "open BigOperators Real Nat Topology Rat\n",
    "example (a b c d e : ℝ) (h : a = b + c) (h' : b = d - e) : a + e = d + c := by\n",
    "  rw [h]\n",
    "  sorry\n",
    "\"\"\"))\n"
   ]
  },
  {
   "cell_type": "code",
   "execution_count": 7,
   "metadata": {},
   "outputs": [],
   "source": [
    "from lean_interact import RemoveProofState\n",
    "\n",
    "for i in range(21, 61):\n",
    "    server.run(RemoveProofState(remove_proof_state=i))"
   ]
  },
  {
   "cell_type": "markdown",
   "metadata": {},
   "source": []
  },
  {
   "cell_type": "code",
   "execution_count": 8,
   "metadata": {},
   "outputs": [
    {
     "name": "stdout",
     "output_type": "stream",
     "text": [
      "ProofStepResponse(proof_status='Incomplete: open goals remain', proof_state=81, messages=[Message(data='Try this: ring_nf', end_pos=Pos(column=0, line=0), severity='info', start_pos=Pos(column=0, line=0))], goals=[\"a b c d e : ℝ\\nh : a = b + c\\nh' : b = d - e\\n⊢ b + c + e = c + d\"])\n",
      "ProofStepResponse(proof_status='Incomplete: open goals remain', proof_state=82, messages=[Message(data='Try this: ring_nf', end_pos=Pos(column=0, line=0), severity='info', start_pos=Pos(column=0, line=0))], goals=[\"a b c d e : ℝ\\nh : a = b + c\\nh' : b = d - e\\n⊢ b + c + e = c + d\"])\n",
      "ProofStepResponse(proof_status='Incomplete: open goals remain', proof_state=83, messages=[Message(data='Try this: ring_nf', end_pos=Pos(column=0, line=0), severity='info', start_pos=Pos(column=0, line=0))], goals=[\"a b c d e : ℝ\\nh : a = b + c\\nh' : b = d - e\\n⊢ b + c + e = c + d\"])\n",
      "ProofStepResponse(proof_status='Incomplete: open goals remain', proof_state=84, messages=[Message(data='Try this: ring_nf', end_pos=Pos(column=0, line=0), severity='info', start_pos=Pos(column=0, line=0))], goals=[\"a b c d e : ℝ\\nh : a = b + c\\nh' : b = d - e\\n⊢ b + c + e = c + d\"])\n",
      "ProofStepResponse(proof_status='Incomplete: open goals remain', proof_state=85, messages=[Message(data='Try this: ring_nf', end_pos=Pos(column=0, line=0), severity='info', start_pos=Pos(column=0, line=0))], goals=[\"a b c d e : ℝ\\nh : a = b + c\\nh' : b = d - e\\n⊢ b + c + e = c + d\"])\n",
      "ProofStepResponse(proof_status='Incomplete: open goals remain', proof_state=86, messages=[Message(data='Try this: ring_nf', end_pos=Pos(column=0, line=0), severity='info', start_pos=Pos(column=0, line=0))], goals=[\"a b c d e : ℝ\\nh : a = b + c\\nh' : b = d - e\\n⊢ b + c + e = c + d\"])\n",
      "ProofStepResponse(proof_status='Incomplete: open goals remain', proof_state=87, messages=[Message(data='Try this: ring_nf', end_pos=Pos(column=0, line=0), severity='info', start_pos=Pos(column=0, line=0))], goals=[\"a b c d e : ℝ\\nh : a = b + c\\nh' : b = d - e\\n⊢ b + c + e = c + d\"])\n",
      "ProofStepResponse(proof_status='Incomplete: open goals remain', proof_state=88, messages=[Message(data='Try this: ring_nf', end_pos=Pos(column=0, line=0), severity='info', start_pos=Pos(column=0, line=0))], goals=[\"a b c d e : ℝ\\nh : a = b + c\\nh' : b = d - e\\n⊢ b + c + e = c + d\"])\n",
      "ProofStepResponse(proof_status='Incomplete: open goals remain', proof_state=89, messages=[Message(data='Try this: ring_nf', end_pos=Pos(column=0, line=0), severity='info', start_pos=Pos(column=0, line=0))], goals=[\"a b c d e : ℝ\\nh : a = b + c\\nh' : b = d - e\\n⊢ b + c + e = c + d\"])\n",
      "ProofStepResponse(proof_status='Incomplete: open goals remain', proof_state=90, messages=[Message(data='Try this: ring_nf', end_pos=Pos(column=0, line=0), severity='info', start_pos=Pos(column=0, line=0))], goals=[\"a b c d e : ℝ\\nh : a = b + c\\nh' : b = d - e\\n⊢ b + c + e = c + d\"])\n",
      "ProofStepResponse(proof_status='Incomplete: open goals remain', proof_state=91, messages=[Message(data='Try this: ring_nf', end_pos=Pos(column=0, line=0), severity='info', start_pos=Pos(column=0, line=0))], goals=[\"a b c d e : ℝ\\nh : a = b + c\\nh' : b = d - e\\n⊢ b + c + e = c + d\"])\n",
      "ProofStepResponse(proof_status='Incomplete: open goals remain', proof_state=92, messages=[Message(data='Try this: ring_nf', end_pos=Pos(column=0, line=0), severity='info', start_pos=Pos(column=0, line=0))], goals=[\"a b c d e : ℝ\\nh : a = b + c\\nh' : b = d - e\\n⊢ b + c + e = c + d\"])\n",
      "ProofStepResponse(proof_status='Incomplete: open goals remain', proof_state=93, messages=[Message(data='Try this: ring_nf', end_pos=Pos(column=0, line=0), severity='info', start_pos=Pos(column=0, line=0))], goals=[\"a b c d e : ℝ\\nh : a = b + c\\nh' : b = d - e\\n⊢ b + c + e = c + d\"])\n",
      "ProofStepResponse(proof_status='Incomplete: open goals remain', proof_state=94, messages=[Message(data='Try this: ring_nf', end_pos=Pos(column=0, line=0), severity='info', start_pos=Pos(column=0, line=0))], goals=[\"a b c d e : ℝ\\nh : a = b + c\\nh' : b = d - e\\n⊢ b + c + e = c + d\"])\n",
      "ProofStepResponse(proof_status='Incomplete: open goals remain', proof_state=95, messages=[Message(data='Try this: ring_nf', end_pos=Pos(column=0, line=0), severity='info', start_pos=Pos(column=0, line=0))], goals=[\"a b c d e : ℝ\\nh : a = b + c\\nh' : b = d - e\\n⊢ b + c + e = c + d\"])\n",
      "ProofStepResponse(proof_status='Incomplete: open goals remain', proof_state=96, messages=[Message(data='Try this: ring_nf', end_pos=Pos(column=0, line=0), severity='info', start_pos=Pos(column=0, line=0))], goals=[\"a b c d e : ℝ\\nh : a = b + c\\nh' : b = d - e\\n⊢ b + c + e = c + d\"])\n",
      "ProofStepResponse(proof_status='Incomplete: open goals remain', proof_state=97, messages=[Message(data='Try this: ring_nf', end_pos=Pos(column=0, line=0), severity='info', start_pos=Pos(column=0, line=0))], goals=[\"a b c d e : ℝ\\nh : a = b + c\\nh' : b = d - e\\n⊢ b + c + e = c + d\"])\n",
      "ProofStepResponse(proof_status='Incomplete: open goals remain', proof_state=98, messages=[Message(data='Try this: ring_nf', end_pos=Pos(column=0, line=0), severity='info', start_pos=Pos(column=0, line=0))], goals=[\"a b c d e : ℝ\\nh : a = b + c\\nh' : b = d - e\\n⊢ b + c + e = c + d\"])\n",
      "ProofStepResponse(proof_status='Incomplete: open goals remain', proof_state=99, messages=[Message(data='Try this: ring_nf', end_pos=Pos(column=0, line=0), severity='info', start_pos=Pos(column=0, line=0))], goals=[\"a b c d e : ℝ\\nh : a = b + c\\nh' : b = d - e\\n⊢ b + c + e = c + d\"])\n",
      "ProofStepResponse(proof_status='Incomplete: open goals remain', proof_state=100, messages=[Message(data='Try this: ring_nf', end_pos=Pos(column=0, line=0), severity='info', start_pos=Pos(column=0, line=0))], goals=[\"a b c d e : ℝ\\nh : a = b + c\\nh' : b = d - e\\n⊢ b + c + e = c + d\"])\n"
     ]
    }
   ],
   "source": [
    "for i in range(1, 21):\n",
    "    response = server.run(ProofStep(proof_state=0, tactic=\"\"\"(\n",
    "      ring\n",
    "    )\"\"\"))\n",
    "    print(response)"
   ]
  },
  {
   "cell_type": "code",
   "execution_count": null,
   "metadata": {},
   "outputs": [
    {
     "name": "stdout",
     "output_type": "stream",
     "text": [
      "ProofStepResponse(proof_status='Completed', goals=[], proof_state=1)\n"
     ]
    }
   ],
   "source": [
    "response = server.run(ProofStep(proof_state=0, tactic=\"rw [h']\"))"
   ]
  },
  {
   "cell_type": "code",
   "execution_count": 28,
   "metadata": {},
   "outputs": [
    {
     "name": "stdout",
     "output_type": "stream",
     "text": [
      "ProofStepResponse(proof_status=\"Error: kernel type check failed: (kernel) declaration has metavariables '[anonymous]'\", goals=[], proof_state=3)\n"
     ]
    }
   ],
   "source": [
    "response = server.run(ProofStep(proof_state=1, tactic=\"\"\"(\n",
    "nlinarith\n",
    ")\"\"\"))\n",
    "print(response)"
   ]
  }
 ],
 "metadata": {
  "kernelspec": {
   "display_name": "base",
   "language": "python",
   "name": "python3"
  },
  "language_info": {
   "codemirror_mode": {
    "name": "ipython",
    "version": 3
   },
   "file_extension": ".py",
   "mimetype": "text/x-python",
   "name": "python",
   "nbconvert_exporter": "python",
   "pygments_lexer": "ipython3",
   "version": "3.13.2"
  }
 },
 "nbformat": 4,
 "nbformat_minor": 2
}
