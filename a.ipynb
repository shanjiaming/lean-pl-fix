{
 "cells": [
  {
   "cell_type": "code",
   "execution_count": 18,
   "metadata": {},
   "outputs": [
    {
     "name": "stdout",
     "output_type": "stream",
     "text": [
      "Build completed successfully.\n",
      "No files to download\n",
      "Decompressing 6641 file(s)\n",
      "Unpacked in 247 ms\n",
      "Completed successfully!\n",
      "Build completed successfully.\n",
      "{'lean_version': 'v4.19.0', 'project': LocalProject(directory='../matheye/benchmarks/', build=True), 'repl_git': 'https://github.com/augustepoiroux/repl', 'repl_rev': 'v1.0.8', 'cache_dir': '/home/matheye/anaconda3/lib/python3.12/site-packages/lean_interact/cache', 'memory_hard_limit_mb': None, 'verbose': True, '_stdout': None, '_stderr': None, 'repo_name': 'augustepoiroux/repl', 'cache_clean_repl_dir': '/home/matheye/anaconda3/lib/python3.12/site-packages/lean_interact/cache/augustepoiroux/repl/repl_clean_copy', '_cache_repl_dir': '/home/matheye/anaconda3/lib/python3.12/site-packages/lean_interact/cache/augustepoiroux/repl/repl_v1.0.8_v4.19.0', '_working_dir': '../matheye/benchmarks/'}\n"
     ]
    }
   ],
   "source": [
    "from lean_interact import Command, LeanServer, LeanREPLConfig, TempRequireProject, LocalProject\n",
    "localprojectdir = \"../matheye/benchmarks/\"\n",
    "config = LeanREPLConfig(verbose=True, project=LocalProject(localprojectdir))\n",
    "print(config.__dict__)\n",
    "\n",
    "server = LeanServer(config)\n"
   ]
  },
  {
   "cell_type": "code",
   "execution_count": 21,
   "metadata": {},
   "outputs": [
    {
     "name": "stdout",
     "output_type": "stream",
     "text": [
      "constructor Pos(line=3, column=2) Pos(line=3, column=13)\n",
      "have a : x = y -> y = x := by\n",
      "  intro h\n",
      "  rw [<- h]\n",
      "  rw [h] <;> linarith Pos(line=5, column=4) Pos(line=9, column=17)\n",
      "intro h Pos(line=6, column=6) Pos(line=6, column=13)\n",
      "rw [<- h] Pos(line=7, column=6) Pos(line=7, column=15)\n",
      "exact a Pos(line=10, column=4) Pos(line=10, column=11)\n",
      "rw [a] Pos(line=12, column=4) Pos(line=12, column=10)\n"
     ]
    }
   ],
   "source": [
    "from lean_interact import Command, LeanServer, LeanREPLConfig, TempRequireProject, LocalProject\n",
    "localprojectdir = \"../matheye/benchmarks/\"\n",
    "config = LeanREPLConfig(verbose=True, project=LocalProject(localprojectdir))\n",
    "print(config.__dict__)\n",
    "\n",
    "server = LeanServer(config)\n",
    "response = server.run(Command(cmd=\"\"\"import Mathlib\n",
    "theorem eq_comm_demo (x y : ℕ) : x = y ↔ y = x := by\n",
    "  constructor\n",
    "  · \n",
    "    have a: x = y -> y = x := by\n",
    "      intro h \n",
    "      rw [<- h]\n",
    "      rw [h]\n",
    "      <;>linarith\n",
    "    exact a\n",
    "  · \n",
    "    rw [a]\n",
    "    rw [h]\n",
    "\n",
    "\"\"\", all_tactics=True))\n",
    "\n",
    "for tactic in response.tactics:\n",
    "    print(tactic.tactic + \" \" + str(tactic.start_pos) + \" \" + str(tactic.end_pos))"
   ]
  },
  {
   "cell_type": "code",
   "execution_count": 27,
   "metadata": {},
   "outputs": [],
   "source": [
    "from lean_interact import ProofStep\n"
   ]
  },
  {
   "cell_type": "code",
   "execution_count": 28,
   "metadata": {},
   "outputs": [
    {
     "name": "stdout",
     "output_type": "stream",
     "text": [
      "ProofStepResponse(proof_status=\"Error: kernel type check failed: (kernel) declaration has metavariables '[anonymous]'\", goals=[], proof_state=3)\n"
     ]
    }
   ],
   "source": [
    "response = server.run(ProofStep(proof_state=1, tactic=\"\"\"(\n",
    "nlinarith\n",
    ")\"\"\"))\n",
    "print(response)"
   ]
  },
  {
   "cell_type": "code",
   "execution_count": null,
   "metadata": {},
   "outputs": [],
   "source": []
  }
 ],
 "metadata": {
  "kernelspec": {
   "display_name": "base",
   "language": "python",
   "name": "python3"
  },
  "language_info": {
   "codemirror_mode": {
    "name": "ipython",
    "version": 3
   },
   "file_extension": ".py",
   "mimetype": "text/x-python",
   "name": "python",
   "nbconvert_exporter": "python",
   "pygments_lexer": "ipython3",
   "version": "3.12.7"
  }
 },
 "nbformat": 4,
 "nbformat_minor": 2
}
