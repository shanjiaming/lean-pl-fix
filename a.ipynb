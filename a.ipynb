{
 "cells": [
  {
   "cell_type": "code",
   "execution_count": 25,
   "metadata": {},
   "outputs": [
    {
     "name": "stdout",
     "output_type": "stream",
     "text": [
      "Build completed successfully.\n"
     ]
    },
    {
     "name": "stdout",
     "output_type": "stream",
     "text": [
      "No files to download\n",
      "Decompressing 6641 file(s)\n",
      "Unpacked in 234 ms\n",
      "Completed successfully!\n",
      "Build completed successfully.\n",
      "{'lean_version': 'v4.19.0', 'project': LocalProject(directory='../matheye/benchmarks/', build=True), 'repl_git': 'https://github.com/augustepoiroux/repl', 'repl_rev': 'v1.0.8', 'cache_dir': '/home/matheye/anaconda3/lib/python3.12/site-packages/lean_interact/cache', 'memory_hard_limit_mb': None, 'verbose': True, '_stdout': None, '_stderr': None, 'repo_name': 'augustepoiroux/repl', 'cache_clean_repl_dir': '/home/matheye/anaconda3/lib/python3.12/site-packages/lean_interact/cache/augustepoiroux/repl/repl_clean_copy', '_cache_repl_dir': '/home/matheye/anaconda3/lib/python3.12/site-packages/lean_interact/cache/augustepoiroux/repl/repl_v1.0.8_v4.19.0', '_working_dir': '../matheye/benchmarks/'}\n"
     ]
    }
   ],
   "source": [
    "from lean_interact import Command, LeanServer, LeanREPLConfig, TempRequireProject, LocalProject\n",
    "localprojectdir = \"../matheye/benchmarks/\"\n",
    "config = LeanREPLConfig(verbose=True, project=LocalProject(localprojectdir))\n",
    "print(config.__dict__)\n",
    "\n",
    "server = LeanServer(config)\n"
   ]
  },
  {
   "cell_type": "code",
   "execution_count": 26,
   "metadata": {},
   "outputs": [
    {
     "name": "stdout",
     "output_type": "stream",
     "text": [
      "[Sorry(end_pos=Pos(column=11, line=13), start_pos=Pos(column=6, line=13), goal='m n : ℕ\\nh₀ : m.gcd n = 6\\nh₁ : m.lcm n = 126\\n⊢ m * n = m.gcd n * m.lcm n', proof_state=0), Sorry(end_pos=Pos(column=9, line=14), start_pos=Pos(column=4, line=14), goal='m n : ℕ\\nh₀ : m.gcd n = 6\\nh₁ : m.lcm n = 126\\nh₄₁ : m * n = m.gcd n * m.lcm n\\n⊢ m * n = 756', proof_state=1), Sorry(end_pos=Pos(column=7, line=15), start_pos=Pos(column=2, line=15), goal='m n : ℕ\\nh₀ : m.gcd n = 6\\nh₁ : m.lcm n = 126\\nh₄ : m * n = 756\\n⊢ 60 ≤ m + n', proof_state=2)]\n"
     ]
    }
   ],
   "source": [
    "\n",
    "response = server.run(Command(cmd=\"\"\"import Mathlib\n",
    "import Aesop\n",
    "\n",
    "set_option maxHeartbeats 0\n",
    "\n",
    "open BigOperators Real Nat Topology Rat\n",
    "\n",
    "\n",
    "theorem mathd_numbertheory_277 (m n : ℕ) (h₀ : Nat.gcd m n = 6) (h₁ : Nat.lcm m n = 126) :\n",
    "    60 ≤ m + n := by\n",
    "  have h₄ : m * n = 756 := by\n",
    "    have h₄₁ : m * n = Nat.gcd m n * Nat.lcm m n := by\n",
    "      sorry\n",
    "    sorry\n",
    "  sorry\n",
    "\"\"\"))\n",
    "print(response.sorries)"
   ]
  },
  {
   "cell_type": "code",
   "execution_count": 27,
   "metadata": {},
   "outputs": [],
   "source": [
    "from lean_interact import ProofStep\n"
   ]
  },
  {
   "cell_type": "code",
   "execution_count": 28,
   "metadata": {},
   "outputs": [
    {
     "name": "stdout",
     "output_type": "stream",
     "text": [
      "ProofStepResponse(proof_status=\"Error: kernel type check failed: (kernel) declaration has metavariables '[anonymous]'\", goals=[], proof_state=3)\n"
     ]
    }
   ],
   "source": [
    "response = server.run(ProofStep(proof_state=1, tactic=\"\"\"(\n",
    "nlinarith\n",
    ")\"\"\"))\n",
    "print(response)"
   ]
  },
  {
   "cell_type": "code",
   "execution_count": null,
   "metadata": {},
   "outputs": [],
   "source": []
  }
 ],
 "metadata": {
  "kernelspec": {
   "display_name": "base",
   "language": "python",
   "name": "python3"
  },
  "language_info": {
   "codemirror_mode": {
    "name": "ipython",
    "version": 3
   },
   "file_extension": ".py",
   "mimetype": "text/x-python",
   "name": "python",
   "nbconvert_exporter": "python",
   "pygments_lexer": "ipython3",
   "version": "3.12.7"
  }
 },
 "nbformat": 4,
 "nbformat_minor": 2
}
