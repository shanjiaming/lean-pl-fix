{
 "cells": [
  {
   "cell_type": "code",
   "execution_count": 3,
   "metadata": {},
   "outputs": [
    {
     "name": "stdout",
     "output_type": "stream",
     "text": [
      "Build completed successfully.\n",
      "No files to download\n",
      "Decompressing 6641 file(s)\n",
      "Unpacked in 60 ms\n",
      "Completed successfully!\n",
      "Build completed successfully.\n",
      "{'lean_version': 'v4.19.0', 'project': LocalProject(directory='../matheye/benchmarks/', build=True), 'repl_git': 'https://github.com/augustepoiroux/repl', 'repl_rev': 'v1.0.8', 'cache_dir': '/home/matheye/anaconda3/lib/python3.12/site-packages/lean_interact/cache', 'memory_hard_limit_mb': None, 'verbose': True, '_stdout': None, '_stderr': None, 'repo_name': 'augustepoiroux/repl', 'cache_clean_repl_dir': '/home/matheye/anaconda3/lib/python3.12/site-packages/lean_interact/cache/augustepoiroux/repl/repl_clean_copy', '_cache_repl_dir': '/home/matheye/anaconda3/lib/python3.12/site-packages/lean_interact/cache/augustepoiroux/repl/repl_v1.0.8_v4.19.0', '_working_dir': '../matheye/benchmarks/'}\n"
     ]
    }
   ],
   "source": [
    "from lean_interact import Command, LeanServer, LeanREPLConfig, TempRequireProject, LocalProject\n",
    "localprojectdir = \"../matheye/benchmarks/\"\n",
    "config = LeanREPLConfig(verbose=True, project=LocalProject(localprojectdir))\n",
    "print(config.__dict__)\n",
    "\n",
    "server = LeanServer(config)\n"
   ]
  },
  {
   "cell_type": "code",
   "execution_count": 8,
   "metadata": {},
   "outputs": [
    {
     "name": "stdout",
     "output_type": "stream",
     "text": [
      "[Sorry(goal=\"a b c d e : ℝ\\nh : a = b + c\\nh' : b = d - e\\n⊢ b + c + e = d + c\", proof_state=3, start_pos=Pos(column=2, line=9), end_pos=Pos(column=7, line=9))]\n"
     ]
    }
   ],
   "source": [
    "\n",
    "response = server.run(Command(cmd=\"\"\"import Mathlib\n",
    "import Aesop\n",
    "\n",
    "set_option maxHeartbeats 0\n",
    "\n",
    "open BigOperators Real Nat Topology Rat\n",
    "example (a b c d e : ℝ) (h : a = b + c) (h' : b = d - e) : a + e = d + c := by {\n",
    "  rw [h]\n",
    "  sorry\n",
    "}\n",
    "\"\"\"))\n",
    "print(response.sorries)"
   ]
  },
  {
   "cell_type": "code",
   "execution_count": 9,
   "metadata": {},
   "outputs": [],
   "source": [
    "from lean_interact import ProofStep\n"
   ]
  },
  {
   "cell_type": "code",
   "execution_count": 15,
   "metadata": {},
   "outputs": [
    {
     "name": "stdout",
     "output_type": "stream",
     "text": [
      "ProofStepResponse(proof_state=9, goals=[], proof_status='Completed')\n"
     ]
    }
   ],
   "source": [
    "\n",
    "response = server.run(ProofStep(proof_state=3, tactic=\"\"\"(\n",
    "  rw [h']\n",
    "  ring\n",
    "  )\"\"\"))\n",
    "print(response)"
   ]
  },
  {
   "cell_type": "code",
   "execution_count": null,
   "metadata": {},
   "outputs": [],
   "source": []
  }
 ],
 "metadata": {
  "kernelspec": {
   "display_name": "base",
   "language": "python",
   "name": "python3"
  },
  "language_info": {
   "codemirror_mode": {
    "name": "ipython",
    "version": 3
   },
   "file_extension": ".py",
   "mimetype": "text/x-python",
   "name": "python",
   "nbconvert_exporter": "python",
   "pygments_lexer": "ipython3",
   "version": "3.12.7"
  }
 },
 "nbformat": 4,
 "nbformat_minor": 2
}
