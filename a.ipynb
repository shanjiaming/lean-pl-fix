{
 "cells": [
  {
   "cell_type": "code",
   "execution_count": 1,
   "metadata": {},
   "outputs": [
    {
     "name": "stdout",
     "output_type": "stream",
     "text": [
      "Build completed successfully.\n"
     ]
    }
   ],
   "source": [
    "\n",
    "from lean_interact import TempRequireProject, LeanREPLConfig, LeanServer, Command\n",
    "\n",
    "config = LeanREPLConfig(verbose=True, project=TempRequireProject(\"mathlib\"))\n",
    "\n",
    "server = LeanServer(config)\n"
   ]
  },
  {
   "cell_type": "code",
   "execution_count": 2,
   "metadata": {},
   "outputs": [
    {
     "ename": "ValidationError",
     "evalue": "1 validation error for CommandResponse\ninfotree\n  Input should be a valid dictionary [type=dict_type, input_value=[{'node': {'stx': {'range...dInfo', 'children': []}], input_type=list]\n    For further information visit https://errors.pydantic.dev/2.11/v/dict_type",
     "output_type": "error",
     "traceback": [
      "\u001b[0;31m---------------------------------------------------------------------------\u001b[0m",
      "\u001b[0;31mValidationError\u001b[0m                           Traceback (most recent call last)",
      "Cell \u001b[0;32mIn[2], line 1\u001b[0m\n\u001b[0;32m----> 1\u001b[0m server\u001b[38;5;241m.\u001b[39mrun(Command(cmd\u001b[38;5;241m=\u001b[39m\u001b[38;5;124m\"\"\"\u001b[39m\u001b[38;5;124mimport Mathlib\u001b[39m\n\u001b[1;32m      2\u001b[0m \u001b[38;5;124mtheorem ex_mathlib (x : ℝ) :\u001b[39m\n\u001b[1;32m      3\u001b[0m \u001b[38;5;124m  x+0=x := by\u001b[39m\n\u001b[1;32m      4\u001b[0m \u001b[38;5;124m    have h (x : ℝ) : x+0=x:= by simp\u001b[39m\n\u001b[1;32m      5\u001b[0m \u001b[38;5;124m  exact h\u001b[39m\u001b[38;5;124m\"\"\"\u001b[39m, infotree\u001b[38;5;241m=\u001b[39m\u001b[38;5;124m\"\u001b[39m\u001b[38;5;124mfull\u001b[39m\u001b[38;5;124m\"\u001b[39m))\n",
      "File \u001b[0;32m~/anaconda3/lib/python3.12/site-packages/lean_interact/server.py:194\u001b[0m, in \u001b[0;36mLeanServer.run\u001b[0;34m(self, request, verbose, timeout, **kwargs)\u001b[0m\n\u001b[1;32m    191\u001b[0m     \u001b[38;5;28;01mreturn\u001b[39;00m LeanError\u001b[38;5;241m.\u001b[39mmodel_validate(result_dict)\n\u001b[1;32m    193\u001b[0m \u001b[38;5;28;01mif\u001b[39;00m \u001b[38;5;28misinstance\u001b[39m(request, (Command, FileCommand, PickleEnvironment, UnpickleEnvironment)):\n\u001b[0;32m--> 194\u001b[0m     \u001b[38;5;28;01mreturn\u001b[39;00m CommandResponse\u001b[38;5;241m.\u001b[39mmodel_validate(result_dict)\n\u001b[1;32m    195\u001b[0m \u001b[38;5;28;01melif\u001b[39;00m \u001b[38;5;28misinstance\u001b[39m(request, (ProofStep, PickleProofState, UnpickleProofState)):\n\u001b[1;32m    196\u001b[0m     \u001b[38;5;28;01mreturn\u001b[39;00m ProofStepResponse\u001b[38;5;241m.\u001b[39mmodel_validate(result_dict)\n",
      "File \u001b[0;32m~/anaconda3/lib/python3.12/site-packages/pydantic/main.py:703\u001b[0m, in \u001b[0;36mBaseModel.model_validate\u001b[0;34m(cls, obj, strict, from_attributes, context, by_alias, by_name)\u001b[0m\n\u001b[1;32m    697\u001b[0m \u001b[38;5;28;01mif\u001b[39;00m by_alias \u001b[38;5;129;01mis\u001b[39;00m \u001b[38;5;28;01mFalse\u001b[39;00m \u001b[38;5;129;01mand\u001b[39;00m by_name \u001b[38;5;129;01mis\u001b[39;00m \u001b[38;5;129;01mnot\u001b[39;00m \u001b[38;5;28;01mTrue\u001b[39;00m:\n\u001b[1;32m    698\u001b[0m     \u001b[38;5;28;01mraise\u001b[39;00m PydanticUserError(\n\u001b[1;32m    699\u001b[0m         \u001b[38;5;124m'\u001b[39m\u001b[38;5;124mAt least one of `by_alias` or `by_name` must be set to True.\u001b[39m\u001b[38;5;124m'\u001b[39m,\n\u001b[1;32m    700\u001b[0m         code\u001b[38;5;241m=\u001b[39m\u001b[38;5;124m'\u001b[39m\u001b[38;5;124mvalidate-by-alias-and-name-false\u001b[39m\u001b[38;5;124m'\u001b[39m,\n\u001b[1;32m    701\u001b[0m     )\n\u001b[0;32m--> 703\u001b[0m \u001b[38;5;28;01mreturn\u001b[39;00m \u001b[38;5;28mcls\u001b[39m\u001b[38;5;241m.\u001b[39m__pydantic_validator__\u001b[38;5;241m.\u001b[39mvalidate_python(\n\u001b[1;32m    704\u001b[0m     obj, strict\u001b[38;5;241m=\u001b[39mstrict, from_attributes\u001b[38;5;241m=\u001b[39mfrom_attributes, context\u001b[38;5;241m=\u001b[39mcontext, by_alias\u001b[38;5;241m=\u001b[39mby_alias, by_name\u001b[38;5;241m=\u001b[39mby_name\n\u001b[1;32m    705\u001b[0m )\n",
      "\u001b[0;31mValidationError\u001b[0m: 1 validation error for CommandResponse\ninfotree\n  Input should be a valid dictionary [type=dict_type, input_value=[{'node': {'stx': {'range...dInfo', 'children': []}], input_type=list]\n    For further information visit https://errors.pydantic.dev/2.11/v/dict_type"
     ]
    }
   ],
   "source": [
    "\n",
    "server.run(Command(cmd=\"\"\"import Mathlib\n",
    "theorem ex_mathlib (x : ℝ) :\n",
    "  x+0=x := by\n",
    "    have h (x : ℝ) : x+0=x:= by simp\n",
    "  exact h\"\"\", root_goals=True, ))"
   ]
  }
 ],
 "metadata": {
  "kernelspec": {
   "display_name": "base",
   "language": "python",
   "name": "python3"
  },
  "language_info": {
   "codemirror_mode": {
    "name": "ipython",
    "version": 3
   },
   "file_extension": ".py",
   "mimetype": "text/x-python",
   "name": "python",
   "nbconvert_exporter": "python",
   "pygments_lexer": "ipython3",
   "version": "3.12.7"
  }
 },
 "nbformat": 4,
 "nbformat_minor": 2
}
