{
 "cells": [
  {
   "cell_type": "code",
   "execution_count": 3,
   "metadata": {},
   "outputs": [],
   "source": [
    "import re\n",
    "def remove_lean_comments(lean_code: str) -> str:\n",
    "    \"\"\"\n",
    "    Removes comments from a Lean code string.\n",
    "\n",
    "    Args:\n",
    "        lean_code: A string containing Lean code.\n",
    "\n",
    "    Returns:\n",
    "        A string with comments removed.\n",
    "    \"\"\"\n",
    "    n = len(lean_code)\n",
    "    result_parts = []\n",
    "    i = 0\n",
    "    while i < n:\n",
    "        # Check for string literals first\n",
    "        if lean_code[i] == '\"':\n",
    "            result_parts.append(lean_code[i])\n",
    "            i += 1\n",
    "            while i < n:\n",
    "                char = lean_code[i]\n",
    "                result_parts.append(char)\n",
    "                if char == '\\\\': # Handle escape sequences\n",
    "                    i += 1\n",
    "                    if i < n:\n",
    "                        result_parts.append(lean_code[i])\n",
    "                elif char == '\"': # End of string\n",
    "                    i += 1\n",
    "                    break\n",
    "                i += 1\n",
    "            continue # Continue to the next part of the main loop\n",
    "\n",
    "        # Check for block comments: /- ... -/\n",
    "        if i + 1 < n and lean_code[i:i+2] == '/-':\n",
    "            # Find the end of the block comment\n",
    "            end_block_comment_idx = lean_code.find('-/', i + 2)\n",
    "            if end_block_comment_idx != -1:\n",
    "                i = end_block_comment_idx + 2\n",
    "            else:\n",
    "                # Unterminated block comment, goes to end of file\n",
    "                i = n\n",
    "            continue\n",
    "\n",
    "        # Check for single-line comments: -- ...\n",
    "        if i + 1 < n and lean_code[i:i+2] == '--':\n",
    "            # Find the end of the line\n",
    "            end_line_comment_idx = lean_code.find('\\n', i + 2)\n",
    "            if end_line_comment_idx != -1:\n",
    "                # The newline character itself is not part of the comment\n",
    "                i = end_line_comment_idx\n",
    "            else:\n",
    "                # Comment goes to the end of the file\n",
    "                i = n\n",
    "            continue\n",
    "\n",
    "        # If not a comment or string, it's code\n",
    "        result_parts.append(lean_code[i])\n",
    "        i += 1\n",
    "\n",
    "    return \"\".join(result_parts)\n",
    "\n"
   ]
  },
  {
   "cell_type": "code",
   "execution_count": 4,
   "metadata": {},
   "outputs": [],
   "source": [
    "s = r\"\"\"\n",
    "    · -- Case: x < -1\n",
    "      have h₄ : abs (x - 1) = -(x - 1) := by\n",
    "\"\"\"\n",
    "\n"
   ]
  },
  {
   "cell_type": "code",
   "execution_count": 5,
   "metadata": {},
   "outputs": [
    {
     "name": "stdout",
     "output_type": "stream",
     "text": [
      "\n",
      "    · \n",
      "      have h₄ : abs (x - 1) = -(x - 1) := by\n",
      "\n"
     ]
    }
   ],
   "source": [
    "print(remove_lean_comments(s))"
   ]
  },
  {
   "cell_type": "code",
   "execution_count": null,
   "metadata": {},
   "outputs": [],
   "source": []
  }
 ],
 "metadata": {
  "kernelspec": {
   "display_name": "base",
   "language": "python",
   "name": "python3"
  },
  "language_info": {
   "codemirror_mode": {
    "name": "ipython",
    "version": 3
   },
   "file_extension": ".py",
   "mimetype": "text/x-python",
   "name": "python",
   "nbconvert_exporter": "python",
   "pygments_lexer": "ipython3",
   "version": "3.12.7"
  }
 },
 "nbformat": 4,
 "nbformat_minor": 2
}
